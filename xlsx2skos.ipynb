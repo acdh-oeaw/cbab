{
 "cells": [
  {
   "cell_type": "code",
   "execution_count": 1,
   "metadata": {
    "collapsed": true
   },
   "outputs": [],
   "source": [
    "import pandas as pd"
   ]
  },
  {
   "cell_type": "code",
   "execution_count": 2,
   "metadata": {
    "collapsed": true
   },
   "outputs": [],
   "source": [
    "file = \"data/skos/cv_burial.xlsx\""
   ]
  },
  {
   "cell_type": "code",
   "execution_count": 3,
   "metadata": {
    "collapsed": true
   },
   "outputs": [],
   "source": [
    "df = pd.read_excel(file)"
   ]
  },
  {
   "cell_type": "code",
   "execution_count": 4,
   "metadata": {
    "collapsed": false,
    "scrolled": true
   },
   "outputs": [],
   "source": [
    "for i, row in df.iterrows():\n",
    "    #create conceptSchemes\n",
    "    scheme_title =row['conceptScheme'].split('|')[0]\n",
    "    temp_scheme,_ = SkosConceptScheme.objects.get_or_create(dc_title=scheme_title)\n",
    "    temp_scheme.save()\n",
    "    #fetch labels and create SkosLabel objects\n",
    "    concept_labels = str(row['1st order pref_label@eng | pref_label@ger']).split('|')\n",
    "    if len(concept_labels) > 1:\n",
    "        pref_label,_ = SkosLabel.objects.get_or_create(\n",
    "            label=concept_labels[1],\n",
    "            label_type='prefLabel',\n",
    "            isoCode='ger'\n",
    "        )\n",
    "    else:\n",
    "        pref_label,_ = SkosLabel.objects.get_or_create(\n",
    "            label=\"kein Label\",\n",
    "            label_type='prefLabel',\n",
    "            isoCode='ger'\n",
    "        )\n",
    "    #create first order concepts    \n",
    "    first_temp,_ = SkosConcept.objects.get_or_create(\n",
    "        pref_label=concept_labels[0],\n",
    "        pref_label_lang='eng'     \n",
    "    )\n",
    "    first_temp.label.add(pref_label)\n",
    "    first_temp.scheme.add(temp_scheme)\n",
    "    first_temp.save()\n",
    "    \n",
    "    #create second order concepts\n",
    "    if str(row['1nd order pref_label@eng | pref_label@ger']) != \"nan\":\n",
    "        second_concept_labels = row['1nd order pref_label@eng | pref_label@ger'].split('|')\n",
    "        if len(second_concept_labels) > 1:\n",
    "            second_pref_label,_ = SkosLabel.objects.get_or_create(\n",
    "                label=second_concept_labels[1],\n",
    "                label_type='prefLabel',\n",
    "                isoCode='ger'\n",
    "            )\n",
    "        else:\n",
    "            second_pref_label,_ = SkosLabel.objects.get_or_create(\n",
    "                label=\"kein Label\",\n",
    "                label_type='prefLabel',\n",
    "                isoCode='ger'\n",
    "            )\n",
    "        second_temp,_ = SkosConcept.objects.get_or_create(\n",
    "            pref_label=second_concept_labels[0],\n",
    "            pref_label_lang='eng'     \n",
    "        )\n",
    "        second_temp.label.add(second_pref_label)\n",
    "        second_temp.scheme.add(temp_scheme)\n",
    "        second_temp.skos_broader.add(first_temp)\n",
    "        second_temp.save()\n",
    "    else:\n",
    "        pass\n",
    "    #create third order concepts\n",
    "    if str(row['3rd order pref_label@eng | pref_label@ger']) != \"nan\":\n",
    "        third_concept_labels = row['3rd order pref_label@eng | pref_label@ger'].split('|')\n",
    "        if len(third_concept_labels) > 1:\n",
    "            third_pref_label,_ = SkosLabel.objects.get_or_create(\n",
    "                label=third_concept_labels[1],\n",
    "                label_type='prefLabel',\n",
    "                isoCode='ger'\n",
    "            )\n",
    "        else:\n",
    "            third_pref_label,_ = SkosLabel.objects.get_or_create(\n",
    "                label=\"kein Label\",\n",
    "                label_type='prefLabel',\n",
    "                isoCode='ger'\n",
    "            )\n",
    "        third_temp,_ = SkosConcept.objects.get_or_create(\n",
    "            pref_label=third_concept_labels[0],\n",
    "            pref_label_lang='eng'     \n",
    "        )\n",
    "        third_temp.label.add(third_pref_label)\n",
    "        third_temp.scheme.add(temp_scheme)\n",
    "        third_temp.skos_broader.add(second_temp)\n",
    "        third_temp.save()"
   ]
  },
  {
   "cell_type": "code",
   "execution_count": 46,
   "metadata": {
    "collapsed": true
   },
   "outputs": [],
   "source": [
    "#for x in SkosConcept.objects.all():\n",
    "    #x.delete()"
   ]
  }
 ],
 "metadata": {
  "kernelspec": {
   "display_name": "Django Shell-Plus",
   "language": "python",
   "name": "django_extensions"
  },
  "language_info": {
   "codemirror_mode": {
    "name": "ipython",
    "version": 3
   },
   "file_extension": ".py",
   "mimetype": "text/x-python",
   "name": "python",
   "nbconvert_exporter": "python",
   "pygments_lexer": "ipython3",
   "version": "3.5.2"
  }
 },
 "nbformat": 4,
 "nbformat_minor": 1
}
