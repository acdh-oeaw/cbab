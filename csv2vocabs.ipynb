{
 "cells": [
  {
   "cell_type": "code",
   "execution_count": 67,
   "metadata": {
    "collapsed": true,
    "deletable": true,
    "editable": true
   },
   "outputs": [],
   "source": [
    "import csv"
   ]
  },
  {
   "cell_type": "code",
   "execution_count": 68,
   "metadata": {
    "collapsed": true,
    "deletable": true,
    "editable": true
   },
   "outputs": [],
   "source": [
    "file = \"data/skos/cv_burial.csv\""
   ]
  },
  {
   "cell_type": "code",
   "execution_count": 69,
   "metadata": {
    "collapsed": false,
    "deletable": true,
    "editable": true
   },
   "outputs": [],
   "source": [
    "class Csv2SkosReader(object):\n",
    "    \"\"\"\n",
    "    extract SKOS-like objects from special structured CSV sheets\n",
    "    \"\"\"\n",
    "            \n",
    "    def __init__(self, csv_file):\n",
    "        self.csv_file = csv_file\n",
    "        try:\n",
    "            with open(self.csv_file, encoding='utf-8') as csvfile:\n",
    "                self.data = [x for x in csv.reader(csvfile, delimiter=',')]\n",
    "        except:\n",
    "            print('could not open csv file')\n",
    "        self.headers = self.data[0]\n",
    "        try:\n",
    "            self.alt_lang = (self.headers[1])[(self.headers[1]).index('@')+1:]\n",
    "        except:\n",
    "            self.alt_lang = None\n",
    "        self.schemes = set([x[0] for x in self.data[1:]])\n",
    "        self.number_of_schemes = len(self.schemes)\n",
    "        \n",
    "    def get_concepts(self):\n",
    "        concepts = [] \n",
    "        for x in self.data[1:]:\n",
    "            first_order = x[1].split('|')\n",
    "            if x[2] != '':\n",
    "                second_order = x[2].split('|')\n",
    "                concept = {\n",
    "                    'scheme': x[0],\n",
    "                    'concept': {\n",
    "                        'pref_label': first_order[0],\n",
    "                        'pref_label_lang': 'eng',\n",
    "                        'alt_label': self.alt_lang,\n",
    "                        'alt_label_lang': self.alt_lang,\n",
    "                        'narrower':{\n",
    "                            'scheme': x[0],\n",
    "                            'concept': {\n",
    "                                'pref_label': second_order[0],\n",
    "                                'pref_label_lang': 'eng',\n",
    "                                'alt_label': second_order[1],\n",
    "                                'alt_label_lang': self.alt_lang,\n",
    "                            }\n",
    "                        }\n",
    "                    }\n",
    "                }\n",
    "            else:\n",
    "                concept = {\n",
    "                    'scheme': x[0],\n",
    "                    'concept': {\n",
    "                        'pref_label': first_order[0],\n",
    "                        'pref_label_lang': 'eng',\n",
    "                        'alt_label': first_order[1],\n",
    "                        'alt_label_lang': self.alt_lang,\n",
    "                    }\n",
    "                }\n",
    "            concepts.append(concept)\n",
    "            \n",
    "        return concepts         "
   ]
  },
  {
   "cell_type": "code",
   "execution_count": 101,
   "metadata": {
    "collapsed": false
   },
   "outputs": [],
   "source": [
    "class Csv2SkosImporter(Csv2SkosReader):\n",
    "    \"\"\"Takes a special formatted csv file, parses it and imports the derived data into vocabs\"\"\"\n",
    "    \n",
    "    def update_schemes(self):\n",
    "        \"\"\"import/updates all conceptSchemes found in csv\"\"\"\n",
    "        report = {}\n",
    "        report['before'] = len(SkosConceptScheme.objects.all())\n",
    "        failed = []\n",
    "        success = []\n",
    "        for x in self.schemes:\n",
    "            try:\n",
    "                clean = x.split('|')[0].strip()\n",
    "            except:\n",
    "                clean = x.strip()\n",
    "            try:\n",
    "                temp_scheme, _ = SkosConceptScheme.objects.get_or_create(dc_title=clean)\n",
    "                temp_scheme.save()\n",
    "                success.append(x)\n",
    "            except:\n",
    "                failed.append(x)\n",
    "        report['failed'] = failed\n",
    "        report['success'] = success\n",
    "        report['after'] = len(SkosConceptScheme.objects.all())\n",
    "        return report\n",
    "    \n",
    "    def update_concepts(self):\n",
    "        \"\"\"import/updates all SkosConcepts found in csv\"\"\"\n",
    "        report = {}\n",
    "        report['before'] = len(SkosConcept.objects.all())\n",
    "        failed = []\n",
    "        success = []\n",
    "        for x in self.get_concepts():\n",
    "            #print(x['concept'])\n",
    "            pass\n",
    "        report['after'] = len(SkosConcept.objects.all())\n",
    "        return report"
   ]
  },
  {
   "cell_type": "code",
   "execution_count": 102,
   "metadata": {
    "collapsed": false,
    "deletable": true,
    "editable": true
   },
   "outputs": [],
   "source": [
    "hansi = Csv2SkosImporter('data/skos/cv_burial.csv')"
   ]
  },
  {
   "cell_type": "code",
   "execution_count": 103,
   "metadata": {
    "collapsed": false,
    "deletable": true,
    "editable": true
   },
   "outputs": [
    {
     "data": {
      "text/plain": [
       "{'after': 0, 'before': 0}"
      ]
     },
     "execution_count": 103,
     "metadata": {},
     "output_type": "execute_result"
    }
   ],
   "source": [
    "hansi.update_concepts()"
   ]
  },
  {
   "cell_type": "code",
   "execution_count": 66,
   "metadata": {
    "collapsed": false,
    "deletable": true,
    "editable": true
   },
   "outputs": [],
   "source": [
    "for x in SkosConceptScheme.objects.all():\n",
    "    x.delete()"
   ]
  },
  {
   "cell_type": "code",
   "execution_count": 12,
   "metadata": {
    "collapsed": false,
    "deletable": true,
    "editable": true
   },
   "outputs": [
    {
     "ename": "NameError",
     "evalue": "name 'readCSV' is not defined",
     "output_type": "error",
     "traceback": [
      "\u001b[0;31m---------------------------------------------------------------------------\u001b[0m",
      "\u001b[0;31mNameError\u001b[0m                                 Traceback (most recent call last)",
      "\u001b[0;32m<ipython-input-12-c2af4dec0b35>\u001b[0m in \u001b[0;36m<module>\u001b[0;34m()\u001b[0m\n\u001b[0;32m----> 1\u001b[0;31m \u001b[0mreadCSV\u001b[0m\u001b[1;33m\u001b[0m\u001b[0m\n\u001b[0m",
      "\u001b[0;31mNameError\u001b[0m: name 'readCSV' is not defined"
     ]
    }
   ],
   "source": [
    "readCSV"
   ]
  },
  {
   "cell_type": "code",
   "execution_count": 20,
   "metadata": {
    "collapsed": false,
    "deletable": true,
    "editable": true
   },
   "outputs": [
    {
     "data": {
      "text/plain": [
       "<_csv.reader at 0x2583bd728d0>"
      ]
     },
     "execution_count": 20,
     "metadata": {},
     "output_type": "execute_result"
    }
   ],
   "source": [
    "readCSV"
   ]
  },
  {
   "cell_type": "code",
   "execution_count": 63,
   "metadata": {
    "collapsed": true,
    "deletable": true,
    "editable": true
   },
   "outputs": [],
   "source": [
    "string = 'hansi@ger'"
   ]
  },
  {
   "cell_type": "code",
   "execution_count": 64,
   "metadata": {
    "collapsed": false,
    "deletable": true,
    "editable": true
   },
   "outputs": [
    {
     "data": {
      "text/plain": [
       "5"
      ]
     },
     "execution_count": 64,
     "metadata": {},
     "output_type": "execute_result"
    }
   ],
   "source": [
    "string.index('@')"
   ]
  },
  {
   "cell_type": "code",
   "execution_count": null,
   "metadata": {
    "collapsed": true,
    "deletable": true,
    "editable": true
   },
   "outputs": [],
   "source": []
  }
 ],
 "metadata": {
  "kernelspec": {
   "display_name": "Django Shell-Plus",
   "language": "python",
   "name": "django_extensions"
  },
  "language_info": {
   "codemirror_mode": {
    "name": "ipython",
    "version": 3
   },
   "file_extension": ".py",
   "mimetype": "text/x-python",
   "name": "python",
   "nbconvert_exporter": "python",
   "pygments_lexer": "ipython3",
   "version": "3.5.2"
  }
 },
 "nbformat": 4,
 "nbformat_minor": 2
}
