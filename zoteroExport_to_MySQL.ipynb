{
 "cells": [
  {
   "cell_type": "code",
   "execution_count": 4,
   "metadata": {
    "collapsed": true
   },
   "outputs": [],
   "source": [
    "import csv, re"
   ]
  },
  {
   "cell_type": "code",
   "execution_count": 9,
   "metadata": {
    "collapsed": false
   },
   "outputs": [
    {
     "data": {
      "text/plain": [
       "1179"
      ]
     },
     "execution_count": 9,
     "metadata": {},
     "output_type": "execute_result"
    }
   ],
   "source": [
    "#count current objects in Book\n",
    "len(Book.objects.all())"
   ]
  },
  {
   "cell_type": "code",
   "execution_count": 6,
   "metadata": {
    "collapsed": true
   },
   "outputs": [],
   "source": [
    "file = \"data/zotero/CBAB.csv\""
   ]
  },
  {
   "cell_type": "code",
   "execution_count": 7,
   "metadata": {
    "collapsed": false
   },
   "outputs": [],
   "source": [
    "with open(file, 'r', encoding ='utf-8') as data:\n",
    "    reader = csv.reader(data)\n",
    "    datalist = list(reader)"
   ]
  },
  {
   "cell_type": "code",
   "execution_count": 8,
   "metadata": {
    "collapsed": false,
    "scrolled": true
   },
   "outputs": [
    {
     "name": "stderr",
     "output_type": "stream",
     "text": [
      "C:\\Users\\pandorfer\\AppData\\Local\\Continuum\\Anaconda3\\envs\\cbab\\lib\\site-packages\\django\\db\\backends\\mysql\\base.py:112: Warning: (1265, \"Data truncated for column 'publication_title' at row 1\")\n",
      "  return self.cursor.execute(query, args)\n",
      "\n",
      "C:\\Users\\pandorfer\\AppData\\Local\\Continuum\\Anaconda3\\envs\\cbab\\lib\\site-packages\\django\\db\\backends\\mysql\\base.py:112: Warning: (1265, \"Data truncated for column 'author' at row 1\")\n",
      "  return self.cursor.execute(query, args)\n",
      "\n"
     ]
    },
    {
     "name": "stdout",
     "output_type": "stream",
     "text": [
      "saved: 1179 objects \n",
      "failed: 0 objects\n"
     ]
    }
   ],
   "source": [
    "failed = []\n",
    "saved = []\n",
    "for row in datalist[1:]:\n",
    "    if row[2] != \"\":\n",
    "        NewBook = Book(zoterokey = row[0],\n",
    "                      item_type = row[1],\n",
    "                      author = row[3],\n",
    "                      title = row[4],\n",
    "                      publication_title = row[5],\n",
    "                      short_title = row[21],\n",
    "                      place = row[27],\n",
    "                      publication_year = row[2])\n",
    "        try:\n",
    "            NewBook.save()\n",
    "            saved.append(row)\n",
    "        except:\n",
    "            failed.append(row)\n",
    "    else:\n",
    "        NewBook = Book(zoterokey = row[0],\n",
    "                      item_type = row[1],\n",
    "                      author = row[3],\n",
    "                      title = row[4],\n",
    "                      publication_title = row[5],\n",
    "                      short_title = row[21],\n",
    "                      place = row[27])\n",
    "        try:\n",
    "            NewBook.save()\n",
    "            saved.append(row)\n",
    "        except:\n",
    "            failed.append(row)\n",
    "print('saved: {} objects \\nfailed: {} objects'.format(len(saved), len(failed)))"
   ]
  },
  {
   "cell_type": "code",
   "execution_count": 3,
   "metadata": {
    "collapsed": false
   },
   "outputs": [
    {
     "data": {
      "text/plain": [
       "(1167, {'bib.Book': 1167, 'burials.BurialSite_reference': 0})"
      ]
     },
     "execution_count": 3,
     "metadata": {},
     "output_type": "execute_result"
    }
   ],
   "source": [
    "# delete all Book-objects:\n",
    "#Book.objects.all().delete()"
   ]
  },
  {
   "cell_type": "code",
   "execution_count": null,
   "metadata": {
    "collapsed": true
   },
   "outputs": [],
   "source": []
  }
 ],
 "metadata": {
  "kernelspec": {
   "display_name": "Django Shell-Plus",
   "language": "python",
   "name": "django_extensions"
  },
  "language_info": {
   "codemirror_mode": {
    "name": "ipython",
    "version": 3
   },
   "file_extension": ".py",
   "mimetype": "text/x-python",
   "name": "python",
   "nbconvert_exporter": "python",
   "pygments_lexer": "ipython3",
   "version": "3.5.2"
  }
 },
 "nbformat": 4,
 "nbformat_minor": 0
}
